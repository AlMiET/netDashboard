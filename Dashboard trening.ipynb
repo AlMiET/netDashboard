{
 "cells": [
  {
   "cell_type": "code",
   "execution_count": 30,
   "metadata": {},
   "outputs": [
    {
     "name": "stdout",
     "output_type": "stream",
     "text": [
      "1240\n",
      "3 år, 624 timer: 193440 kr\n",
      "4 år, 800 timer: 124000 kr\n"
     ]
    }
   ],
   "source": [
    "rate = 155\n",
    "aleks = []\n",
    "\n",
    "def weekly_income(hours):\n",
    "    salary = hours * rate\n",
    "    return salary\n",
    "\n",
    "def double_income(years, hours):\n",
    "    if years == 3:\n",
    "        salary = weekly_income(hours) * 2\n",
    "    elif years > 3:\n",
    "        for i in range(100):\n",
    "            if years == 3 + 5*i:\n",
    "                salary = weekly_income(hours) * 2\n",
    "            else:\n",
    "                salary = weekly_income(hours)\n",
    "    else:\n",
    "        salary = salary = weekly_income(hours)\n",
    "    return salary\n",
    "\n",
    "print((weekly_income(8)))\n",
    "print('3 år, 624 timer: ' + str(double_income(3, 624)) + ' kr')\n",
    "print('4 år, 800 timer: ' + str(double_income(4, 800)) + ' kr')"
   ]
  }
 ],
 "metadata": {
  "kernelspec": {
   "display_name": "Python 3",
   "language": "python",
   "name": "python3"
  },
  "language_info": {
   "codemirror_mode": {
    "name": "ipython",
    "version": 3
   },
   "file_extension": ".py",
   "mimetype": "text/x-python",
   "name": "python",
   "nbconvert_exporter": "python",
   "pygments_lexer": "ipython3",
   "version": "3.8.3"
  }
 },
 "nbformat": 4,
 "nbformat_minor": 4
}
