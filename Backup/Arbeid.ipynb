{
 "cells": [
  {
   "cell_type": "code",
   "execution_count": 40,
   "metadata": {},
   "outputs": [
    {
     "name": "stdout",
     "output_type": "stream",
     "text": [
      "{'student_id': [0, 1, 2, 3, 4, 5], 'week_id': [0, 1, 2, 3, 4, 5, 6, 7, 8, 9, 10, 11, 12, 13, 14, 15, 16, 17, 18, 19, 20, 21, 22, 23, 24, 25, 26, 27, 28, 29, 30, 31, 32, 33, 34, 35, 36, 37, 38, 39, 40, 41, 42, 43, 44, 45, 46, 47, 48, 49, 50, 51, 52], 'hours': [[2, 0, 3, 7], [1, 2, 4], [4, 4, 4, 4], [1, 0, 2], [0.5, 1, 2]]}\n",
      "{\"student_id\": [0, 1, 2, 3, 4, 5], \"week_id\": [0, 1, 2, 3, 4, 5, 6, 7, 8, 9, 10, 11, 12, 13, 14, 15, 16, 17, 18, 19, 20, 21, 22, 23, 24, 25, 26, 27, 28, 29, 30, 31, 32, 33, 34, 35, 36, 37, 38, 39, 40, 41, 42, 43, 44, 45, 46, 47, 48, 49, 50, 51, 52], \"hours\": [[2, 0, 3, 7], [1, 2, 4], [4, 4, 4, 4], [1, 0, 2], [0.5, 1, 2]]}\n"
     ]
    }
   ],
   "source": [
    "arbeid = {\n",
    "    'student_id': [0, 1, 2, 3, 4, 5], \n",
    "    'week_id': [i for i in range(53)],\n",
    "    'hours': [[2, 0, 3], [1,2,4], [4,4,4], [1,0,2], [0.5, 1, 2]]\n",
    "    }\n",
    " \n",
    "arbeid['hours'][0].append(7)\n",
    "arbeid['hours'][2].append(4)\n",
    "print(arbeid)\n",
    "\n",
    "import json\n",
    "arbeid_json = json.dumps(arbeid)\n",
    "print(arbeid_json)\n",
    "\n",
    "with open (\"arbeid.json\", \"w\") as outfile:\n",
    "    json.dump(arbeid, outfile)"
   ]
  },
  {
   "cell_type": "code",
   "execution_count": null,
   "metadata": {},
   "outputs": [],
   "source": []
  }
 ],
 "metadata": {
  "kernelspec": {
   "display_name": "Python 3",
   "language": "python",
   "name": "python3"
  },
  "language_info": {
   "codemirror_mode": {
    "name": "ipython",
    "version": 3
   },
   "file_extension": ".py",
   "mimetype": "text/x-python",
   "name": "python",
   "nbconvert_exporter": "python",
   "pygments_lexer": "ipython3",
   "version": "3.8.3"
  }
 },
 "nbformat": 4,
 "nbformat_minor": 4
}
